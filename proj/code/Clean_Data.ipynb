{
 "cells": [
  {
   "cell_type": "markdown",
   "metadata": {},
   "source": [
    "# Final Project: Clean Data\n",
    "\n",
    "This script is meant to follow the Get_Data scipt. This tool removes fields from the demographic data and combines all demographic into one table. The demographic data is then joined to the spatial geometry on a census tracts level using ArcPy. "
   ]
  },
  {
   "cell_type": "code",
   "execution_count": null,
   "metadata": {},
   "outputs": [],
   "source": [
    "import pandas as pd\n",
    "import os"
   ]
  },
  {
   "cell_type": "markdown",
   "metadata": {},
   "source": [
    "# Census Data"
   ]
  },
  {
   "cell_type": "markdown",
   "metadata": {},
   "source": [
    "### Age"
   ]
  },
  {
   "cell_type": "code",
   "execution_count": null,
   "metadata": {},
   "outputs": [],
   "source": [
    "age_csv = r\"C:\\Users\\msong\\Desktop\\arc2proj\\data\\agesex\\ACSST5Y2019.S0101_data_with_overlays_2021-04-23T093838.csv\"\n",
    "cols =[\"GEO_ID\", \n",
    "       \"NAME\", \n",
    "       \"S0101_C01_001E\", # estimate total pop\n",
    "       \"S0101_C01_026E\", # pop 18+\n",
    "       \"S0101_C01_027E\", # pop 21+\n",
    "       \"S0101_C01_028E\", # pop 60+\n",
    "       \"S0101_C01_032E\"\t # median age\n",
    "      ]\n",
    "age_df = pd.read_csv (age_csv, \n",
    "                      header=0,\n",
    "                      usecols= cols,\n",
    "                     )"
   ]
  },
  {
   "cell_type": "code",
   "execution_count": null,
   "metadata": {},
   "outputs": [],
   "source": [
    "age_df = age_df.iloc[1: , :] # remove first row with heading descriptions"
   ]
  },
  {
   "cell_type": "code",
   "execution_count": null,
   "metadata": {},
   "outputs": [],
   "source": [
    "# rename columns\n",
    "new_cols = [\"geo_id\", \n",
    "            \"tract\", \n",
    "            \"total_pop\", \n",
    "            \"pop_over_18\", \n",
    "            \"pop_over_21\", \n",
    "            \"pop_over_60\",\n",
    "            \"median_age\"]\n",
    "age_df.columns = new_cols\n"
   ]
  },
  {
   "cell_type": "markdown",
   "metadata": {},
   "source": [
    "## Employment"
   ]
  },
  {
   "cell_type": "code",
   "execution_count": null,
   "metadata": {},
   "outputs": [],
   "source": [
    "emp_csv = r\"C:\\Users\\msong\\Desktop\\arc2proj\\data\\employment\\ACSST5Y2019.S2301_data_with_overlays_2021-04-23T093758.csv\"\n",
    "cols =[\"GEO_ID\", \n",
    "       \"S2301_C01_001E\", # estimate total pop 16+\n",
    "       \"S2301_C02_001E\" # labor force participation rate 16+\n",
    "      ]\n",
    "emp_df = pd.read_csv (emp_csv, \n",
    "                      header=0,\n",
    "                      usecols= cols,\n",
    "                     )\n",
    "\n",
    "emp_df = emp_df.iloc[1: , :] # remove first row with heading descriptions\n",
    "\n",
    "# rename columns\n",
    "new_cols = [\"geo_id\", \n",
    "            \"tot_pop_16\", \n",
    "            \"labor_force_rate\"]\n",
    "emp_df.columns = new_cols"
   ]
  },
  {
   "cell_type": "markdown",
   "metadata": {},
   "source": [
    "## Household/Family"
   ]
  },
  {
   "cell_type": "code",
   "execution_count": null,
   "metadata": {},
   "outputs": [],
   "source": [
    "hh_csv = r\"C:\\Users\\msong\\Desktop\\arc2proj\\data\\householdsfam\\ACSST5Y2019.S1101_data_with_overlays_2021-04-23T093913.csv\"\n",
    "cols =[\"GEO_ID\", \n",
    "       \"S1101_C01_001E\", # total housholds\n",
    "       \"S1101_C01_002E\", # avg household size\n",
    "       \"S1101_C01_003E\", # total families\n",
    "       \"S1101_C01_004E\"  # average family size\n",
    "      ]\n",
    "hh_df = pd.read_csv (hh_csv, \n",
    "                      header=0,\n",
    "                      usecols= cols,\n",
    "                     )\n",
    "\n",
    "hh_df = hh_df.iloc[1: , :] # remove first row with heading descriptions\n",
    "\n",
    "# rename columns\n",
    "new_cols = [\"geo_id\", \n",
    "            \"tot_hhs\", \n",
    "            \"avg_hh_size\",\n",
    "            \"tot_fams\",\n",
    "            \"avg_fam_size\"]\n",
    "hh_df.columns = new_cols"
   ]
  },
  {
   "cell_type": "markdown",
   "metadata": {},
   "source": [
    "## Median Income"
   ]
  },
  {
   "cell_type": "code",
   "execution_count": null,
   "metadata": {},
   "outputs": [],
   "source": [
    "inc_csv = r\"C:\\Users\\msong\\Desktop\\arc2proj\\data\\med_income_mn\\ACSST5Y2019.S1903_data_with_overlays_2021-04-23T093941.csv\"\n",
    "cols =[\"GEO_ID\",  \n",
    "       \"S1903_C03_015E\",\t# med income for families households\n",
    "       \"S1903_C03_034E\" # med income for non-family households\n",
    "      ]\n",
    "\n",
    "inc_df = pd.read_csv (inc_csv, \n",
    "                      header=0,\n",
    "                      usecols= cols,\n",
    "                     )\n",
    "inc_df = inc_df.iloc[1: , :] # remove first row with heading descriptions\n",
    "\n",
    "# rename columns\n",
    "new_cols = [\"geo_id\", \n",
    "            \"med_inc_fams\", \n",
    "            \"med_inc_nonfams\"\n",
    "           ]\n",
    "inc_df.columns = new_cols"
   ]
  },
  {
   "cell_type": "code",
   "execution_count": null,
   "metadata": {},
   "outputs": [],
   "source": [
    "census_df = age_df.merge(inc_df, \n",
    "                       how=\"left\", \n",
    "                       left_on=\"geo_id\", \n",
    "                       right_on=\"geo_id\").merge(hh_df, \n",
    "                                                how=\"left\", \n",
    "                                                left_on=\"geo_id\", \n",
    "                                                right_on=\"geo_id\").merge(emp_df,\n",
    "                                                                        how=\"left\",\n",
    "                                                                        left_on=\"geo_id\",\n",
    "                                                                        right_on=\"geo_id\")"
   ]
  },
  {
   "cell_type": "code",
   "execution_count": null,
   "metadata": {},
   "outputs": [],
   "source": [
    "# remove beginning characters of geoid \n",
    "census_df['geo_id'] = census_df['geo_id'].str.replace(\"1400000US\",\"\").astype(str)"
   ]
  },
  {
   "cell_type": "code",
   "execution_count": null,
   "metadata": {},
   "outputs": [],
   "source": [
    "census_df =  census_df.replace(\"-\", \"0\")"
   ]
  },
  {
   "cell_type": "code",
   "execution_count": null,
   "metadata": {},
   "outputs": [],
   "source": [
    "os.chdir(r\"C:\\Users\\msong\\Desktop\\arc2proj\\output_data\")\n",
    "out_dir = os.getcwd()\n",
    "census_df.to_csv(os.path.join(out_dir, \"demographics.csv\"), index=False)"
   ]
  },
  {
   "cell_type": "code",
   "execution_count": null,
   "metadata": {},
   "outputs": [],
   "source": [
    "# import demographics to gdb to join with tracts\n",
    "arcpy.conversion.TableToTable(r\"C:\\Users\\msong\\Desktop\\arc2proj\\output_data\\demographics.csv\", \n",
    "                              r\"C:\\Users\\msong\\Desktop\\arc2proj\\Business_FuzzyLogic\\Business_FuzzyLogic.gdb\", \n",
    "                              \"demographics\")"
   ]
  },
  {
   "cell_type": "code",
   "execution_count": null,
   "metadata": {},
   "outputs": [],
   "source": [
    "arcpy.management.AddField(\"demographics\", \n",
    "                          \"geo_id_2\", \n",
    "                          \"TEXT\")"
   ]
  },
  {
   "cell_type": "code",
   "execution_count": null,
   "metadata": {},
   "outputs": [],
   "source": [
    "# convert geo_id to text type for joining\n",
    "arcpy.management.CalculateField(\"demographics\", \n",
    "                                \"geo_id_2\", \n",
    "                                \"!geo_id!\", \n",
    "                                \"PYTHON3\")"
   ]
  },
  {
   "cell_type": "code",
   "execution_count": null,
   "metadata": {},
   "outputs": [],
   "source": [
    "# join demographic data with metro_tracts\n",
    "arcpy.management.AddJoin(\"metro_tracts\", \n",
    "                         \"GEOID\", \n",
    "                         \"demographics\", \n",
    "                         \"geo_id_2\", \n",
    "                         \"KEEP_COMMON\")"
   ]
  },
  {
   "cell_type": "code",
   "execution_count": null,
   "metadata": {},
   "outputs": [],
   "source": []
  }
 ],
 "metadata": {
  "kernelspec": {
   "display_name": "Python 3",
   "language": "python",
   "name": "python3"
  },
  "language_info": {
   "codemirror_mode": {
    "name": "ipython",
    "version": 3
   },
   "file_extension": ".py",
   "mimetype": "text/x-python",
   "name": "python",
   "nbconvert_exporter": "python",
   "pygments_lexer": "ipython3",
   "version": "3.7.9"
  }
 },
 "nbformat": 4,
 "nbformat_minor": 2
}
