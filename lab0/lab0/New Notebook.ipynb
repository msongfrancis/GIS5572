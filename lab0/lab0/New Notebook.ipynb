{
 "cells": [
  {
   "cell_type": "code",
   "execution_count": 5,
   "metadata": {},
   "outputs": [],
   "source": [
    "in_feature = r\"C:\\Users\\msong\\Desktop\\GIS5572\\lab0\\shp_trans_state_trails_minnesota\\state_trails_minnesota.shp\"\n",
    "out_feature = \"MNstate_trails_buff_50m_jupyter\"\n",
    "buff_dist = \"50 meters\""
   ]
  },
  {
   "cell_type": "code",
   "execution_count": 7,
   "metadata": {},
   "outputs": [
    {
     "data": {
      "text/html": [
       "<h2>Output</h2>C:\\Users\\msong\\Desktop\\GIS5572\\lab0\\lab0\\lab0.gdb\\MNstate_trails_buff_50m_jupyter<h2>Messages</h2>Start Time: Sunday, January 31, 2021 12:41:17 PM<br/>Succeeded at Sunday, January 31, 2021 12:41:19 PM (Elapsed Time: 2.14 seconds)<br/><style>.rendered_html td, .rendered_html th {text-align: left;}.rendered_html tbody {border: 1px solid black;}</style>"
      ],
      "text/plain": [
       "<Result 'C:\\\\Users\\\\msong\\\\Desktop\\\\GIS5572\\\\lab0\\\\lab0\\\\lab0.gdb\\\\MNstate_trails_buff_50m_jupyter'>"
      ]
     },
     "execution_count": 7,
     "metadata": {},
     "output_type": "execute_result"
    }
   ],
   "source": [
    "arcpy.analysis.Buffer(in_feature, \n",
    "                      out_feature,\n",
    "                      buff_dist)"
   ]
  },
  {
   "cell_type": "code",
   "execution_count": null,
   "metadata": {},
   "outputs": [],
   "source": []
  }
 ],
 "metadata": {
  "kernelspec": {
   "display_name": "ArcGISPro",
   "language": "Python",
   "name": "python3"
  },
  "language_info": {
   "file_extension": ".py",
   "name": "python",
   "version": "3"
  }
 },
 "nbformat": 4,
 "nbformat_minor": 2
}
