{
 "cells": [
  {
   "cell_type": "markdown",
   "metadata": {},
   "source": [
    "## Welcome to your notebook.\n"
   ]
  },
  {
   "cell_type": "markdown",
   "metadata": {},
   "source": [
    "#### Run this cell to connect to your GIS and get started:"
   ]
  },
  {
   "cell_type": "code",
   "execution_count": 1,
   "metadata": {},
   "outputs": [
    {
     "name": "stderr",
     "output_type": "stream",
     "text": [
      "/opt/conda/lib/python3.6/site-packages/arcgis/gis/__init__.py:407: UserWarning: You are logged on as leex6165_UMN with an administrator role, proceed with caution.\n",
      "  self.users.me.username)\n"
     ]
    }
   ],
   "source": [
    "from arcgis.gis import GIS\n",
    "gis = GIS(\"home\")"
   ]
  },
  {
   "cell_type": "markdown",
   "metadata": {},
   "source": [
    "#### Now you are ready to start!"
   ]
  },
  {
   "cell_type": "code",
   "execution_count": 2,
   "metadata": {},
   "outputs": [
    {
     "data": {
      "text/html": [
       "<div class=\"item_container\" style=\"height: auto; overflow: hidden; border: 1px solid #cfcfcf; border-radius: 2px; background: #f6fafa; line-height: 1.21429em; padding: 10px;\">\n",
       "                    <div class=\"item_left\" style=\"width: 210px; float: left;\">\n",
       "                       <a href='https://www.arcgis.com/home/item.html?id=d1c3c8c8448a4158859a83df2169b028' target='_blank'>\n",
       "                        <img src='data:image/png;base64,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' width='200' height='133' class=\"itemThumbnail\">\n",
       "                       </a>\n",
       "                    </div>\n",
       "\n",
       "                    <div class=\"item_right\"     style=\"float: none; width: auto; overflow: hidden;\">\n",
       "                        <a href='https://www.arcgis.com/home/item.html?id=d1c3c8c8448a4158859a83df2169b028' target='_blank'><b>shp_trans_state_trails_minnesota</b>\n",
       "                        </a>\n",
       "                        <br/>REQUIRED: A summary of the intentions with which the data set was developed.<img src='https://www.arcgis.com/home/js/jsapi/esri/css/images/item_type_icons/featureshosted16.png' style=\"vertical-align:middle;\">Feature Layer Collection by leex6165_UMN\n",
       "                        <br/>Last Modified: January 31, 2021\n",
       "                        <br/>0 comments, 2 views\n",
       "                    </div>\n",
       "                </div>\n",
       "                "
      ],
      "text/plain": [
       "<Item title:\"shp_trans_state_trails_minnesota\" type:Feature Layer Collection owner:leex6165_UMN>"
      ]
     },
     "execution_count": 2,
     "metadata": {},
     "output_type": "execute_result"
    }
   ],
   "source": [
    "# Item Added From Toolbar\n",
    "# Title: shp_trans_state_trails_minnesota | Type: Feature Service | Owner: leex6165_UMN\n",
    "item = gis.content.get(\"d1c3c8c8448a4158859a83df2169b028\")\n",
    "item"
   ]
  },
  {
   "cell_type": "code",
   "execution_count": 7,
   "metadata": {},
   "outputs": [
    {
     "data": {
      "text/html": [
       "<div class=\"item_container\" style=\"height: auto; overflow: hidden; border: 1px solid #cfcfcf; border-radius: 2px; background: #f6fafa; line-height: 1.21429em; padding: 10px;\">\n",
       "                    <div class=\"item_left\" style=\"width: 210px; float: left;\">\n",
       "                       <a href='https://www.arcgis.com/home/item.html?id=bae6c3d7807c4525b713b74c3d504028' target='_blank'>\n",
       "                        <img src='http://static.arcgis.com/images/desktopapp.png' class=\"itemThumbnail\">\n",
       "                       </a>\n",
       "                    </div>\n",
       "\n",
       "                    <div class=\"item_right\"     style=\"float: none; width: auto; overflow: hidden;\">\n",
       "                        <a href='https://www.arcgis.com/home/item.html?id=bae6c3d7807c4525b713b74c3d504028' target='_blank'><b>MNstate_trails_buff_50m_arconline</b>\n",
       "                        </a>\n",
       "                        <br/><img src='https://www.arcgis.com/home/js/jsapi/esri/css/images/item_type_icons/featureshosted16.png' style=\"vertical-align:middle;\">Feature Layer Collection by leex6165_UMN\n",
       "                        <br/>Last Modified: January 31, 2021\n",
       "                        <br/>0 comments, 0 views\n",
       "                    </div>\n",
       "                </div>\n",
       "                "
      ],
      "text/plain": [
       "<Item title:\"MNstate_trails_buff_50m_arconline\" type:Feature Layer Collection owner:leex6165_UMN>"
      ]
     },
     "execution_count": 7,
     "metadata": {},
     "output_type": "execute_result"
    }
   ],
   "source": [
    "from arcgis import features\n",
    "features.use_proximity.create_buffers(item, \n",
    "                                      distances = [50], \n",
    "                                      units = \"Meters\", \n",
    "                                      output_name = \"MNstate_trails_buff_50m_arconline\")"
   ]
  },
  {
   "cell_type": "code",
   "execution_count": 11,
   "metadata": {},
   "outputs": [
    {
     "data": {
      "text/html": [
       "<div class=\"item_container\" style=\"height: auto; overflow: hidden; border: 1px solid #cfcfcf; border-radius: 2px; background: #f6fafa; line-height: 1.21429em; padding: 10px;\">\n",
       "                    <div class=\"item_left\" style=\"width: 210px; float: left;\">\n",
       "                       <a href='https://www.arcgis.com/home/item.html?id=bae6c3d7807c4525b713b74c3d504028' target='_blank'>\n",
       "                        <img src='data:image/png;base64,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' width='200' height='133' class=\"itemThumbnail\">\n",
       "                       </a>\n",
       "                    </div>\n",
       "\n",
       "                    <div class=\"item_right\"     style=\"float: none; width: auto; overflow: hidden;\">\n",
       "                        <a href='https://www.arcgis.com/home/item.html?id=bae6c3d7807c4525b713b74c3d504028' target='_blank'><b>MNstate_trails_buff_50m_arconline</b>\n",
       "                        </a>\n",
       "                        <br/><img src='https://www.arcgis.com/home/js/jsapi/esri/css/images/item_type_icons/featureshosted16.png' style=\"vertical-align:middle;\">Feature Layer Collection by leex6165_UMN\n",
       "                        <br/>Last Modified: January 31, 2021\n",
       "                        <br/>0 comments, 2 views\n",
       "                    </div>\n",
       "                </div>\n",
       "                "
      ],
      "text/plain": [
       "<Item title:\"MNstate_trails_buff_50m_arconline\" type:Feature Layer Collection owner:leex6165_UMN>"
      ]
     },
     "execution_count": 11,
     "metadata": {},
     "output_type": "execute_result"
    }
   ],
   "source": [
    "# Item Added From Toolbar\n",
    "# Title: MNstate_trails_buff_50m_arconline | Type: Feature Service | Owner: leex6165_UMN\n",
    "trails_50m = gis.content.get(\"bae6c3d7807c4525b713b74c3d504028\")\n",
    "trails_50m"
   ]
  },
  {
   "cell_type": "code",
   "execution_count": 12,
   "metadata": {},
   "outputs": [],
   "source": [
    "map1 = gis.map(\"Minnesota\")"
   ]
  },
  {
   "cell_type": "code",
   "execution_count": 16,
   "metadata": {},
   "outputs": [],
   "source": [
    "map1.add_layer(trails_50m)\n",
    "map1.add_layer(item)"
   ]
  },
  {
   "cell_type": "code",
   "execution_count": 18,
   "metadata": {},
   "outputs": [
    {
     "data": {
      "application/vnd.jupyter.widget-view+json": {
       "model_id": "e322a0e87b6e45cf9f8b544c435a7ae4",
       "version_major": 2,
       "version_minor": 0
      },
      "text/plain": [
       "MapView(jupyter_target='notebook', layout=Layout(height='400px', width='100%'), ready=True)"
      ]
     },
     "metadata": {},
     "output_type": "display_data"
    },
    {
     "data": {
      "text/html": [
       "<div class=\"map-static-img-preview-8b1e8c3b-743c-4179-9de6-abe3635f9eaf\"><img src=\"\"></img></div>"
      ],
      "text/plain": [
       "<IPython.core.display.HTML object>"
      ]
     },
     "metadata": {},
     "output_type": "display_data"
    }
   ],
   "source": [
    "map1"
   ]
  },
  {
   "cell_type": "code",
   "execution_count": null,
   "metadata": {},
   "outputs": [],
   "source": []
  }
 ],
 "metadata": {
  "esriNotebookRuntime": {
   "notebookRuntimeName": "ArcGIS Notebook Python 3 Standard",
   "notebookRuntimeVersion": "4.0"
  },
  "kernelspec": {
   "display_name": "Python 3",
   "language": "python",
   "name": "python3"
  },
  "language_info": {
   "codemirror_mode": {
    "name": "ipython",
    "version": 3
   },
   "file_extension": ".py",
   "mimetype": "text/x-python",
   "name": "python",
   "nbconvert_exporter": "python",
   "pygments_lexer": "ipython3",
   "version": "3.6.10"
  }
 },
 "nbformat": 4,
 "nbformat_minor": 2
}
