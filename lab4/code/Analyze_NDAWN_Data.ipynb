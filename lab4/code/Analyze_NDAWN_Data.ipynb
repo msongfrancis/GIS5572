{
 "cells": [
  {
   "cell_type": "markdown",
   "metadata": {},
   "source": [
    "## Lab 4: Analyze NDAWN Data\n",
    "\n",
    "This script is designed to be used following the Get_NDAWN_Data script. This script will take the station locations retrieved from the NDAWN HMTL to point features and join the average daily temperature, minimum daily temperature, and maximum daily temperature to the stations. The temperatures will then be used as sample values for different interpolation methods: inverse distance weighted, radial basis functions, empirical bayesian kriging, and original kriging. The outputs of this script are a point feature class of the stations, and jpeg of the output rasters. "
   ]
  },
  {
   "cell_type": "code",
   "execution_count": null,
   "metadata": {},
   "outputs": [],
   "source": [
    "import os"
   ]
  },
  {
   "cell_type": "code",
   "execution_count": null,
   "metadata": {},
   "outputs": [],
   "source": [
    "os.chdir(\"..\\output data\")\n",
    "data_dir = os.getcwd()"
   ]
  },
  {
   "cell_type": "code",
   "execution_count": null,
   "metadata": {},
   "outputs": [],
   "source": [
    "arcpy.env.workspace = r\"C:\\Users\\msong\\Desktop\\arc21\\lab4\\lab4_proj\\lab4_proj.gdb\""
   ]
  },
  {
   "cell_type": "code",
   "execution_count": null,
   "metadata": {},
   "outputs": [],
   "source": [
    "# create point feature class from stations coordinates\n",
    "out_coordinate_system = arcpy.SpatialReference('WGS 1984')\n",
    "arcpy.management.XYTableToPoint(os.path.join(data_dir, \"stations.csv\"), \n",
    "                                \"stations\", \n",
    "                                \"x\", \n",
    "                                \"y\", \n",
    "                                None, \n",
    "                               out_coordinate_system)"
   ]
  },
  {
   "cell_type": "code",
   "execution_count": null,
   "metadata": {},
   "outputs": [],
   "source": [
    "# create a table of the ndawn data csv\n",
    "arcpy.management.CopyRows(os.path.join(data_dir, \"ndawn_data.csv\"), \n",
    "                          \"ndawn_data\")\n"
   ]
  },
  {
   "cell_type": "code",
   "execution_count": null,
   "metadata": {},
   "outputs": [],
   "source": [
    "# get avg monthly temperature for each station\n",
    "arcpy.analysis.Statistics(\"ndawn_data\", \n",
    "                          \"ndawn_avg_monthly\", \n",
    "                          \"Avg_Temp__Degrees_F_ MEAN\", \n",
    "                          \"Station_Name\")"
   ]
  },
  {
   "cell_type": "code",
   "execution_count": null,
   "metadata": {},
   "outputs": [],
   "source": [
    "# create a copy of stations feature class to join ndawn_data to\n",
    "arcpy.management.CopyFeatures(\"stations\", \n",
    "                              os.path.join(arcpy.env.workspace, \"stations_ndawn\"))"
   ]
  },
  {
   "cell_type": "code",
   "execution_count": null,
   "metadata": {},
   "outputs": [],
   "source": [
    "# join calculated average mean to station point features\n",
    "arcpy.management.AddJoin(\"stations\", \n",
    "                         \"station_name\", \n",
    "                         \"ndawn_avg_monthly\", \n",
    "                         \"station_name\", \n",
    "                         \"KEEP_ALL\")"
   ]
  },
  {
   "cell_type": "code",
   "execution_count": null,
   "metadata": {},
   "outputs": [],
   "source": [
    "# get high and low temperature for each station\n",
    "arcpy.analysis.Statistics(\"ndawn_data\", \n",
    "                          \"ndawn_highlow\", \n",
    "                          \"Max_Temp__Degrees_F_ MAX;Min_Temp__Degrees_F_ MIN\", \n",
    "                          \"Station_Name\")"
   ]
  },
  {
   "cell_type": "code",
   "execution_count": null,
   "metadata": {},
   "outputs": [],
   "source": [
    "# join ndawn data to stations to perform interpolations\n",
    "arcpy.management.AddJoin(\"stations_ndawn\", \n",
    "                         \"station_name\", \n",
    "                         \"ndawn_highlow\", \n",
    "                         \"Station_Name\", \n",
    "                         \"KEEP_ALL\")"
   ]
  },
  {
   "cell_type": "markdown",
   "metadata": {},
   "source": [
    "## IDW Interpolation"
   ]
  },
  {
   "cell_type": "code",
   "execution_count": null,
   "metadata": {},
   "outputs": [],
   "source": [
    "# IDW interpolation of max daily temperatures\n",
    "idw_high = arcpy.sa.Idw(\"stations_ndawn\", \n",
    "                          \"ndawn_highlow.MAX_Max_Temp__Degrees_F_\", \n",
    "                          0.014477764, \n",
    "                          2, \n",
    "                          \"VARIABLE 12\", \n",
    "                          None); \n",
    "idw_high.save(r\"C:\\Users\\msong\\Desktop\\arc21\\lab4\\lab4_proj\\lab4_proj.gdb\\idw_high\")"
   ]
  },
  {
   "cell_type": "code",
   "execution_count": null,
   "metadata": {},
   "outputs": [],
   "source": [
    "# IDW interpolation of min daily temperatures\n",
    "idw_low = arcpy.sa.Idw(\"stations_ndawn\", \n",
    "                          \"ndawn_highlow.MIN_Min_Temp__Degrees_F_\", \n",
    "                          0.014477764, \n",
    "                          2, \n",
    "                          \"VARIABLE 12\", \n",
    "                          None); \n",
    "idw_low.save(r\"C:\\Users\\msong\\Desktop\\arc21\\lab4\\lab4_proj\\lab4_proj.gdb\\idw_low\")"
   ]
  },
  {
   "cell_type": "markdown",
   "metadata": {},
   "source": [
    "## Simple Kriging interpolation"
   ]
  },
  {
   "cell_type": "code",
   "execution_count": null,
   "metadata": {},
   "outputs": [],
   "source": [
    "# kriging interpolation for max daily temps\n",
    "krig_high = arcpy.sa.Kriging(\"stations_ndawn\", \n",
    "                                      \"ndawn_highlow.MAX_Max_Temp__Degrees_F_\", \n",
    "                                      \"Spherical 0.014478 # # #\", \n",
    "                                      0.014477764, \n",
    "                                      \"VARIABLE 12\",\n",
    "                                      None); \n",
    "krigh_high.save(r\"C:\\Users\\msong\\Desktop\\arc21\\lab4\\lab4_proj\\lab4_proj.gdb\\krig_high\")"
   ]
  },
  {
   "cell_type": "code",
   "execution_count": null,
   "metadata": {},
   "outputs": [],
   "source": [
    "# kriging interpolation for min daily temps\n",
    "krig_low = arcpy.sa.Kriging(\"stations_ndawn\", \n",
    "                                      \"ndawn_highlow.MIN_Min_Temp__Degrees_F_\", \n",
    "                                      \"Spherical 0.014478 # # #\", \n",
    "                                      0.014477764, \n",
    "                                      \"VARIABLE 12\",\n",
    "                                      None); \n",
    "krig_low.save(r\"C:\\Users\\msong\\Desktop\\arc21\\lab4\\lab4_proj\\lab4_proj.gdb\\krig_low\")"
   ]
  },
  {
   "cell_type": "markdown",
   "metadata": {},
   "source": [
    "## Radial basis functions interpolation"
   ]
  },
  {
   "cell_type": "code",
   "execution_count": null,
   "metadata": {},
   "outputs": [],
   "source": [
    "# RBF interpolation of max daily temps\n",
    "arcpy.ga.RadialBasisFunctions(\"stations_ndawn\", \n",
    "                              \"ndawn_highlow.MAX_Max_Temp__Degrees_F_\", \n",
    "                              None, \n",
    "                              \"rbf_high\")"
   ]
  },
  {
   "cell_type": "code",
   "execution_count": null,
   "metadata": {},
   "outputs": [],
   "source": [
    "# RBF interpoloation of min daily temps\n",
    "arcpy.ga.RadialBasisFunctions(\"stations_ndawn\", \n",
    "                              \"ndawn_highlow.MIN_Min_Temp__Degrees_F_\", \n",
    "                              None, \n",
    "                              \"rbf_low\")"
   ]
  },
  {
   "cell_type": "markdown",
   "metadata": {},
   "source": [
    "## Empirical bayesian kriging"
   ]
  },
  {
   "cell_type": "code",
   "execution_count": null,
   "metadata": {},
   "outputs": [],
   "source": [
    "# EBK interpolation for max daily temps\n",
    "arcpy.ga.EmpiricalBayesianKriging(\"stations_ndawn\", \n",
    "                                  \"ndawn_highlow.MAX_Max_Temp__Degrees_F_\", \n",
    "                                  None, \n",
    "                                  \"ebk_high\")"
   ]
  },
  {
   "cell_type": "code",
   "execution_count": null,
   "metadata": {},
   "outputs": [],
   "source": [
    "# EBK interpolation for min daily temps\n",
    "arcpy.ga.EmpiricalBayesianKriging(\"stations_ndawn\", \n",
    "                                  \"ndawn_highlow.MIN_Min_Temp__Degrees_F_\", \n",
    "                                  None, \n",
    "                                  \"ebk_low\")"
   ]
  },
  {
   "cell_type": "code",
   "execution_count": null,
   "metadata": {},
   "outputs": [],
   "source": [
    "# Export Layout to jpeg\n",
    "# I did this for each interpolation result\n",
    "aprx = arcpy.mp.ArcGISProject(\"CURRENT\")\n",
    "mxd_list = aprx.listLayouts(\"Layout\")[0]\n",
    "\n",
    "os.chdir(\"..\\interpolation results\")\n",
    "data_dir = os.getcwd()\n",
    "layout = mxd_list.exportToJPEG(os.path.join(data_dir, \"EBK_averages\"))"
   ]
  },
  {
   "cell_type": "code",
   "execution_count": null,
   "metadata": {},
   "outputs": [],
   "source": []
  }
 ],
 "metadata": {
  "kernelspec": {
   "display_name": "Python 3",
   "language": "python",
   "name": "python3"
  },
  "language_info": {
   "codemirror_mode": {
    "name": "ipython",
    "version": 3
   },
   "file_extension": ".py",
   "mimetype": "text/x-python",
   "name": "python",
   "nbconvert_exporter": "python",
   "pygments_lexer": "ipython3",
   "version": "3.7.9"
  }
 },
 "nbformat": 4,
 "nbformat_minor": 2
}
