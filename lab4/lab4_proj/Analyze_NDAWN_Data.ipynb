{
 "cells": [
  {
   "cell_type": "code",
   "execution_count": 2,
   "metadata": {},
   "outputs": [],
   "source": [
    "import os"
   ]
  },
  {
   "cell_type": "code",
   "execution_count": 3,
   "metadata": {},
   "outputs": [],
   "source": [
    "os.chdir(\"..\\output data\")\n",
    "data_dir = os.getcwd()"
   ]
  },
  {
   "cell_type": "code",
   "execution_count": 4,
   "metadata": {},
   "outputs": [],
   "source": [
    "arcpy.env.workspace = r\"C:\\Users\\msong\\Desktop\\arc21\\lab4\\lab4_proj\\lab4_proj.gdb\""
   ]
  },
  {
   "cell_type": "code",
   "execution_count": 5,
   "metadata": {},
   "outputs": [
    {
     "data": {
      "text/html": [
       "<h2>Output</h2>C:\\Users\\msong\\Desktop\\arc21\\lab4\\lab4_proj\\lab4_proj.gdb\\stations<h2>Messages</h2>Start Time: Saturday, April 17, 2021 7:34:56 PM<br/>Succeeded at Saturday, April 17, 2021 7:34:58 PM (Elapsed Time: 2.22 seconds)<br/><style>.rendered_html td, .rendered_html th {text-align: left;}.rendered_html tbody {border: 1px solid black;}</style>"
      ],
      "text/plain": [
       "<Result 'C:\\\\Users\\\\msong\\\\Desktop\\\\arc21\\\\lab4\\\\lab4_proj\\\\lab4_proj.gdb\\\\stations'>"
      ]
     },
     "execution_count": 5,
     "metadata": {},
     "output_type": "execute_result"
    }
   ],
   "source": [
    "# create point feature class from stations coordinates\n",
    "out_coordinate_system = arcpy.SpatialReference('WGS 1984')\n",
    "arcpy.management.XYTableToPoint(os.path.join(data_dir, \"stations.csv\"), \n",
    "                                \"stations\", \n",
    "                                \"x\", \n",
    "                                \"y\", \n",
    "                                None, \n",
    "                               out_coordinate_system)"
   ]
  },
  {
   "cell_type": "code",
   "execution_count": 6,
   "metadata": {},
   "outputs": [
    {
     "data": {
      "text/html": [
       "<h2>Output</h2>C:\\Users\\msong\\Desktop\\arc21\\lab4\\lab4_proj\\lab4_proj.gdb\\ndawn_data<h2>Messages</h2>Start Time: Saturday, April 17, 2021 7:35:06 PM<br/>Succeeded at Saturday, April 17, 2021 7:35:07 PM (Elapsed Time: 1.19 seconds)<br/><style>.rendered_html td, .rendered_html th {text-align: left;}.rendered_html tbody {border: 1px solid black;}</style>"
      ],
      "text/plain": [
       "<Result 'C:\\\\Users\\\\msong\\\\Desktop\\\\arc21\\\\lab4\\\\lab4_proj\\\\lab4_proj.gdb\\\\ndawn_data'>"
      ]
     },
     "execution_count": 6,
     "metadata": {},
     "output_type": "execute_result"
    }
   ],
   "source": [
    "arcpy.management.CopyRows(os.path.join(data_dir, \"ndawn_data.csv\"), \n",
    "                          \"ndawn_data\")\n"
   ]
  },
  {
   "cell_type": "code",
   "execution_count": 154,
   "metadata": {},
   "outputs": [
    {
     "data": {
      "text/html": [
       "<h2>Output</h2>C:\\Users\\msong\\Desktop\\arc21\\lab4\\lab4_proj\\lab4_proj.gdb\\ndawn_stats<h2>Messages</h2>Start Time: Saturday, April 17, 2021 5:29:58 PM<br/>Succeeded at Saturday, April 17, 2021 5:29:58 PM (Elapsed Time: 0.45 seconds)<br/><style>.rendered_html td, .rendered_html th {text-align: left;}.rendered_html tbody {border: 1px solid black;}</style>"
      ],
      "text/plain": [
       "<Result 'C:\\\\Users\\\\msong\\\\Desktop\\\\arc21\\\\lab4\\\\lab4_proj\\\\lab4_proj.gdb\\\\ndawn_stats'>"
      ]
     },
     "execution_count": 154,
     "metadata": {},
     "output_type": "execute_result"
    }
   ],
   "source": [
    "# get avg monthly temperature for each station\n",
    "arcpy.analysis.Statistics(\"ndawn_data\", \n",
    "                          \"ndawn_stats\", \n",
    "                          \"Avg_Temp__Degrees_F_ MEAN\", \n",
    "                          \"Station_Name\")"
   ]
  },
  {
   "cell_type": "code",
   "execution_count": 155,
   "metadata": {},
   "outputs": [
    {
     "data": {
      "text/html": [
       "<h2>Output</h2>C:\\Users\\msong\\Desktop\\arc21\\lab4\\lab4_proj\\lab4_proj.gdb\\stations_ndawn<h2>Messages</h2>Start Time: Saturday, April 17, 2021 5:29:59 PM<br/>Succeeded at Saturday, April 17, 2021 5:30:00 PM (Elapsed Time: 0.81 seconds)<br/><style>.rendered_html td, .rendered_html th {text-align: left;}.rendered_html tbody {border: 1px solid black;}</style>"
      ],
      "text/plain": [
       "<Result 'C:\\\\Users\\\\msong\\\\Desktop\\\\arc21\\\\lab4\\\\lab4_proj\\\\lab4_proj.gdb\\\\stations_ndawn'>"
      ]
     },
     "execution_count": 155,
     "metadata": {},
     "output_type": "execute_result"
    }
   ],
   "source": [
    "# create a copy of stations to join ndawn_data to\n",
    "arcpy.management.CopyFeatures(\"stations\", \n",
    "                              os.path.join(arcpy.env.workspace, \"stations_ndawn\"))"
   ]
  },
  {
   "cell_type": "code",
   "execution_count": 156,
   "metadata": {},
   "outputs": [
    {
     "data": {
      "text/html": [
       "<h2>Output</h2>a Layer object<h2>Messages</h2>Start Time: Saturday, April 17, 2021 5:30:01 PM<br/>Succeeded at Saturday, April 17, 2021 5:30:01 PM (Elapsed Time: 0.14 seconds)<br/><style>.rendered_html td, .rendered_html th {text-align: left;}.rendered_html tbody {border: 1px solid black;}</style>"
      ],
      "text/plain": [
       "<Result 'stations'>"
      ]
     },
     "execution_count": 156,
     "metadata": {},
     "output_type": "execute_result"
    }
   ],
   "source": [
    "# join calculated average mean to station point features\n",
    "arcpy.management.AddJoin(\"stations\", \n",
    "                         \"station_name\", \n",
    "                         \"ndawn_stats\", \n",
    "                         \"station_name\", \n",
    "                         \"KEEP_ALL\")"
   ]
  },
  {
   "cell_type": "code",
   "execution_count": 157,
   "metadata": {},
   "outputs": [
    {
     "data": {
      "text/html": [
       "<h2>Output</h2>a Layer object<h2>Messages</h2>Start Time: Saturday, April 17, 2021 5:30:11 PM<br/>Succeeded at Saturday, April 17, 2021 5:30:11 PM (Elapsed Time: 0.11 seconds)<br/><style>.rendered_html td, .rendered_html th {text-align: left;}.rendered_html tbody {border: 1px solid black;}</style>"
      ],
      "text/plain": [
       "<Result 'stations_ndawn'>"
      ]
     },
     "execution_count": 157,
     "metadata": {},
     "output_type": "execute_result"
    }
   ],
   "source": [
    "# join ndawn data to stations to perform interpolations\n",
    "arcpy.management.AddJoin(\"stations_ndawn\", \n",
    "                         \"station_name\", \n",
    "                         \"ndawn_data\", \n",
    "                         \"station_name\", \n",
    "                         \"KEEP_ALL\")"
   ]
  },
  {
   "cell_type": "markdown",
   "metadata": {},
   "source": [
    "## IDW Interpolation"
   ]
  },
  {
   "cell_type": "code",
   "execution_count": 159,
   "metadata": {},
   "outputs": [],
   "source": [
    "# IDW interpolation of max daily temperatures\n",
    "with arcpy.EnvManager(extent=\"42337.00405841 5021198.07735051 903454.863393244 5439890.4888472\"):\n",
    "    idw_max = arcpy.sa.Idw(\"stations_ndawn\", \n",
    "                              \"ndawn_data.Max_Temp__Degrees_F_\", \n",
    "                              0.0156657888812225, \n",
    "                              2, \n",
    "                              \"VARIABLE 12\", \n",
    "                              None); \n",
    "    idw_max.save(r\"C:\\Users\\msong\\Desktop\\arc21\\lab4\\lab4_proj\\lab4_proj.gdb\\idw_max\")"
   ]
  },
  {
   "cell_type": "code",
   "execution_count": 158,
   "metadata": {},
   "outputs": [],
   "source": [
    "# IDW interpolation of min daily temperatures\n",
    "with arcpy.EnvManager(extent=\"42337.00405841 5021198.07735051 903454.863393244 5439890.4888472\"):\n",
    "    idw_min = arcpy.sa.Idw(\"stations_ndawn\", \n",
    "                              \"ndawn_data.Min_Temp__Degrees_F_\", \n",
    "                              0.0156657888812225, \n",
    "                              2, \n",
    "                              \"VARIABLE 12\", \n",
    "                              None); \n",
    "    idw_min.save(r\"C:\\Users\\msong\\Desktop\\arc21\\lab4\\lab4_proj\\lab4_proj.gdb\\idw_min\")"
   ]
  },
  {
   "cell_type": "markdown",
   "metadata": {},
   "source": [
    "## Simple Kriging interpolation"
   ]
  },
  {
   "cell_type": "code",
   "execution_count": 161,
   "metadata": {},
   "outputs": [],
   "source": [
    "# kriging interpolation for max daily temps\n",
    "krig_max = arcpy.sa.Kriging(\"stations_ndawn\", \n",
    "                                      \"ndawn_data.Max_Temp__Degrees_F_\", \n",
    "                                      \"Spherical 0.014478 # # #\", \n",
    "                                      r\"C:\\Users\\msong\\Desktop\\arc21\\lab4\\lab4_proj\\lab4_proj.gdb\\idw_max\", \n",
    "                                      \"VARIABLE 12\", \n",
    "                                      None); \n",
    "krig_min.save(r\"C:\\Users\\msong\\Desktop\\arc21\\lab4\\lab4_proj\\lab4_proj.gdb\\krig_max\")"
   ]
  },
  {
   "cell_type": "code",
   "execution_count": 160,
   "metadata": {},
   "outputs": [],
   "source": [
    "# kriging interpolation for mmin daily temps\n",
    "krig_min = arcpy.sa.Kriging(\"stations_ndawn\", \n",
    "                                      \"ndawn_data.Min_Temp__Degrees_F_\", \n",
    "                                      \"Spherical 0.014478 # # #\", \n",
    "                                      r\"C:\\Users\\msong\\Desktop\\arc21\\lab4\\lab4_proj\\lab4_proj.gdb\\idw_max\", \n",
    "                                      \"VARIABLE 12\", \n",
    "                                      None); \n",
    "krig_min.save(r\"C:\\Users\\msong\\Desktop\\arc21\\lab4\\lab4_proj\\lab4_proj.gdb\\krig_min\")"
   ]
  },
  {
   "cell_type": "markdown",
   "metadata": {},
   "source": [
    "## Radial basis functions interpolation"
   ]
  },
  {
   "cell_type": "code",
   "execution_count": 162,
   "metadata": {},
   "outputs": [],
   "source": [
    "# RBF interpolation of max daily temps\n",
    "with arcpy.EnvManager(extent=\"8961.29988065269 5004658.35082126 933055.133272627 5458736.75395413\"):\n",
    "    arcpy.ga.RadialBasisFunctions(\"stations_ndawn\", \n",
    "                                  \"ndawn_data.Max_Temp__Degrees_F_\", \n",
    "                                  \"rbf_geostat_max\", \n",
    "                                  \"rbf_max\")"
   ]
  },
  {
   "cell_type": "code",
   "execution_count": 163,
   "metadata": {},
   "outputs": [],
   "source": [
    "# RBF interpoloation of min daily temps\n",
    "with arcpy.EnvManager(extent=\"8961.29988065269 5004658.35082126 933055.133272627 5458736.75395413\"):\n",
    "    arcpy.ga.RadialBasisFunctions(\"stations_ndawn\",\n",
    "                                  \"ndawn_data.Min_Temp__Degrees_F_\", \n",
    "                                  \"rbf_geostat_min\", \n",
    "                                  \"rbf_min\")"
   ]
  },
  {
   "cell_type": "markdown",
   "metadata": {},
   "source": [
    "## Empirical bayesian kriging"
   ]
  },
  {
   "cell_type": "code",
   "execution_count": 164,
   "metadata": {},
   "outputs": [],
   "source": [
    "# EBK interpolation for max daily temps\n",
    "with arcpy.EnvManager(extent=\"8961.29988065269 5004658.35082126 933055.133272627 5458736.75395413\"):\n",
    "    arcpy.ga.EmpiricalBayesianKriging(\"stations_ndawn\", \n",
    "                                      \"ndawn_data.Max_Temp__Degrees_F_\", \n",
    "                                      None, \n",
    "                                      \"ebk_max\")"
   ]
  },
  {
   "cell_type": "code",
   "execution_count": 165,
   "metadata": {},
   "outputs": [],
   "source": [
    "# EBK interpolation for min daily temps\n",
    "with arcpy.EnvManager(extent=\"8961.29988065269 5004658.35082126 933055.133272627 5458736.75395413\"):\n",
    "    arcpy.ga.EmpiricalBayesianKriging(\"stations_ndawn\", \n",
    "                                      \"ndawn_data.Min_Temp__Degrees_F_\", \n",
    "                                      None, \n",
    "                                      \"ebk_min\")"
   ]
  },
  {
   "cell_type": "code",
   "execution_count": null,
   "metadata": {},
   "outputs": [],
   "source": []
  },
  {
   "cell_type": "code",
   "execution_count": null,
   "metadata": {},
   "outputs": [],
   "source": []
  }
 ],
 "metadata": {
  "kernelspec": {
   "display_name": "ArcGISPro",
   "language": "Python",
   "name": "python3"
  },
  "language_info": {
   "file_extension": ".py",
   "name": "python",
   "version": "3"
  }
 },
 "nbformat": 4,
 "nbformat_minor": 2
}
