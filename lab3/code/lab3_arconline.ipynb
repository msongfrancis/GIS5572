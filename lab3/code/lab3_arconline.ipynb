{
 "cells": [
  {
   "cell_type": "markdown",
   "metadata": {},
   "source": [
    "# Lab 03: USPS - ArcGIS Online\n",
    "\n",
    "The scenario: \n",
    "\n",
    "Reilly and Randy are two USPS drivers. Their boss gave them overtime work for a Saturday to get packages delivered before the holidays. They start at 8am and need to deliver 10 packages to 10 different locations that are scattered around Western Twin Cities. \n",
    "\n",
    "Your job is to help them find the best 2 routes between their two trucks so that it minimizes the amount of time they have to spend working before a holiday. Provide directions for them that they can print off. They’re old school and don’t carry smart phones.\n",
    "\n",
    "\n",
    "This script performs vehicle routing analysis using the Place Routes Analysis tool. \n",
    "\n",
    "This script requires the user to already have uploaded the shapefiles for the starting point and the delivery stops. \n"
   ]
  },
  {
   "cell_type": "markdown",
   "metadata": {},
   "source": [
    "#### Run this cell to connect to your GIS and get started:"
   ]
  },
  {
   "cell_type": "code",
   "execution_count": null,
   "metadata": {},
   "outputs": [],
   "source": [
    "import datetime\n",
    "from arcgis import features\n",
    "from arcgis.gis import GIS\n",
    "gis = GIS(\"home\")"
   ]
  },
  {
   "cell_type": "markdown",
   "metadata": {},
   "source": [
    "### Place Routes Analysis"
   ]
  },
  {
   "cell_type": "code",
   "execution_count": null,
   "metadata": {},
   "outputs": [],
   "source": [
    "# Title: stops_projected | Type: Feature Service | Owner: leex6165_UMN\n",
    "stops = gis.content.get(\"53c6d96f737a4d239df0a3f15af6375e\")"
   ]
  },
  {
   "cell_type": "code",
   "execution_count": null,
   "metadata": {},
   "outputs": [],
   "source": [
    "# Title: start_point | Type: Feature Service | Owner: leex6165_UMN\n",
    "start_layer = gis.content.get(\"437c24a1aa0b4768b7c8081ebe813bd1\")"
   ]
  },
  {
   "cell_type": "code",
   "execution_count": null,
   "metadata": {},
   "outputs": [],
   "source": [
    "# Item Added From Toolbar\n",
    "# Title: closed_highways_poly | Type: Feature Service | Owner: leex6165_UMN\n",
    "item = gis.content.get(\"937b1137bafc468fa497be38895a3534\")\n",
    "item"
   ]
  },
  {
   "cell_type": "code",
   "execution_count": null,
   "metadata": {},
   "outputs": [],
   "source": [
    "features.use_proximity.plan_routes(stops,\n",
    "                                   2,\n",
    "                                   5,\n",
    "                                   datetime.datetime(2021, 3, 22, 10, 0), #start 8:00 on a Saturday\n",
    "                                   start_layer,\n",
    "                                   output_name = \"routes.shp\")\n",
    "                                   #polygon_barrier_layer = item)"
   ]
  },
  {
   "cell_type": "markdown",
   "metadata": {},
   "source": [
    "### Map route results"
   ]
  },
  {
   "cell_type": "code",
   "execution_count": null,
   "metadata": {},
   "outputs": [],
   "source": [
    "# features.use_proximity.plan_routes?"
   ]
  },
  {
   "cell_type": "code",
   "execution_count": null,
   "metadata": {},
   "outputs": [],
   "source": [
    "# Title: routes.shp | Type: Feature Service | Owner: leex6165_UMN\n",
    "routes = gis.content.get(\"4f42200c9e15449eaaa52c03f0aa8f7f\")"
   ]
  },
  {
   "cell_type": "code",
   "execution_count": null,
   "metadata": {},
   "outputs": [],
   "source": [
    "map1 = gis.map(\"Minneapolis Minnesota\")"
   ]
  },
  {
   "cell_type": "code",
   "execution_count": null,
   "metadata": {},
   "outputs": [],
   "source": [
    "map1.add_layer(routes)"
   ]
  },
  {
   "cell_type": "code",
   "execution_count": null,
   "metadata": {},
   "outputs": [],
   "source": [
    "map1"
   ]
  },
  {
   "cell_type": "code",
   "execution_count": null,
   "metadata": {},
   "outputs": [],
   "source": []
  }
 ],
 "metadata": {
  "esriNotebookRuntime": {
   "notebookRuntimeName": "ArcGIS Notebook Python 3 Standard",
   "notebookRuntimeVersion": "4.0"
  },
  "kernelspec": {
   "display_name": "Python 3",
   "language": "python",
   "name": "python3"
  },
  "language_info": {
   "codemirror_mode": {
    "name": "ipython",
    "version": 3
   },
   "file_extension": ".py",
   "mimetype": "text/x-python",
   "name": "python",
   "nbconvert_exporter": "python",
   "pygments_lexer": "ipython3",
   "version": "3.7.9"
  }
 },
 "nbformat": 4,
 "nbformat_minor": 2
}
