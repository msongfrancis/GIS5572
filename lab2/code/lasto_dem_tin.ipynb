{
 "cells": [
  {
   "cell_type": "code",
   "execution_count": 2,
   "metadata": {},
   "outputs": [],
   "source": [
    "import requests\n",
    "from zipfile import ZipFile"
   ]
  },
  {
   "cell_type": "code",
   "execution_count": 3,
   "metadata": {},
   "outputs": [],
   "source": [
    "las_url = \"https://resources.gisdata.mn.gov/pub/data/elevation/lidar/county/nicollet/laz/4326-18-60.laz\""
   ]
  },
  {
   "cell_type": "code",
   "execution_count": 4,
   "metadata": {},
   "outputs": [],
   "source": [
    "r = requests.get(las_url)"
   ]
  },
  {
   "cell_type": "code",
   "execution_count": 5,
   "metadata": {},
   "outputs": [],
   "source": [
    "in_laz = \"4326-18-60.laz\""
   ]
  },
  {
   "cell_type": "code",
   "execution_count": 6,
   "metadata": {},
   "outputs": [],
   "source": [
    "with open(in_laz, \"wb\") as file:\n",
    "    file.write(r.content)"
   ]
  },
  {
   "cell_type": "code",
   "execution_count": 7,
   "metadata": {},
   "outputs": [
    {
     "data": {
      "text/html": [
       "<h2>Output</h2><h2>Messages</h2>Start Time: Saturday, February 20, 2021 8:59:46 AM<br/>Succeeded at Saturday, February 20, 2021 8:59:52 AM (Elapsed Time: 5.84 seconds)<br/><style>.rendered_html td, .rendered_html th {text-align: left;}.rendered_html tbody {border: 1px solid black;}</style>"
      ],
      "text/plain": [
       "<Result ''>"
      ]
     },
     "execution_count": 7,
     "metadata": {},
     "output_type": "execute_result"
    }
   ],
   "source": [
    "arcpy.conversion.ConvertLas(r\"C:\\Users\\msong\\Desktop\\arc2\\lab2\\lab2\\4326-18-60.laz\", \n",
    "                            r\"C:\\Users\\msong\\Desktop\\arc2\\lab2\", \n",
    "                            \"SAME_AS_INPUT\", \n",
    "                            '', \n",
    "                            \"NO_COMPRESSION\", \n",
    "                            \"REARRANGE_POINTS\", \n",
    "                            None)"
   ]
  },
  {
   "cell_type": "code",
   "execution_count": 8,
   "metadata": {},
   "outputs": [],
   "source": [
    "in_las = \"4326-18-60.las\"\n",
    "out_las = \"ground points\"\n",
    "ground_pts = arcpy.management.MakeLasDatasetLayer(in_las, \n",
    "                                                  out_las, \n",
    "                                                  class_code=[2,8], \n",
    "                                                 )"
   ]
  },
  {
   "cell_type": "code",
   "execution_count": 9,
   "metadata": {},
   "outputs": [
    {
     "data": {
      "text/html": [
       "<h2>Output</h2>c:\\Users\\msong\\Desktop\\arc2\\lab2\\lab2\\lab2.gdb\\dem<h2>Messages</h2>Start Time: Saturday, February 20, 2021 9:00:16 AM<br/>Succeeded at Saturday, February 20, 2021 9:00:19 AM (Elapsed Time: 2.87 seconds)<br/><style>.rendered_html td, .rendered_html th {text-align: left;}.rendered_html tbody {border: 1px solid black;}</style>"
      ],
      "text/plain": [
       "<Result 'c:\\\\Users\\\\msong\\\\Desktop\\\\arc2\\\\lab2\\\\lab2\\\\lab2.gdb\\\\dem'>"
      ]
     },
     "execution_count": 9,
     "metadata": {},
     "output_type": "execute_result"
    }
   ],
   "source": [
    "out_raster = r\"c:\\Users\\msong\\Desktop\\arc2\\lab2\\lab2\\lab2.gdb\\dem\"\n",
    "arcpy.conversion.LasDatasetToRaster(ground_pts, \n",
    "                                    out_raster)\n",
    "\n",
    "\n",
    "arcpy.conversion.LasDatasetToRaster(out_las, \n",
    "                                    out_raster, \n",
    "                                    \"ELEVATION\", \n",
    "                                    \"BINNING AVERAGE LINEAR\", \n",
    "                                    \"FLOAT\", \n",
    "                                    \"CELLSIZE\", \n",
    "                                    10, \n",
    "                                    1)"
   ]
  },
  {
   "cell_type": "code",
   "execution_count": 10,
   "metadata": {
    "scrolled": true
   },
   "outputs": [
    {
     "data": {
      "text/html": [
       "<h2>Output</h2>C:\\Users\\msong\\Desktop\\arc2\\lab2\\lab2\\lab2.gdb\\ground_pts_tin<h2>Messages</h2>Start Time: Saturday, February 20, 2021 9:00:21 AM<br/>Succeeded at Saturday, February 20, 2021 9:00:22 AM (Elapsed Time: 0.69 seconds)<br/><style>.rendered_html td, .rendered_html th {text-align: left;}.rendered_html tbody {border: 1px solid black;}</style>"
      ],
      "text/plain": [
       "<Result 'C:\\\\Users\\\\msong\\\\Desktop\\\\arc2\\\\lab2\\\\lab2\\\\lab2.gdb\\\\ground_pts_tin'>"
      ]
     },
     "execution_count": 10,
     "metadata": {},
     "output_type": "execute_result"
    }
   ],
   "source": [
    "out_tin = r\"C:\\Users\\msong\\Desktop\\arc2\\lab2\\lab2\\lab2.gdb\\ground_pts_tin\"\n",
    "arcpy.ddd.LasDatasetToTin(out_las, \n",
    "                          out_tin, \n",
    "                          \"WINDOW_SIZE\", \n",
    "                          \"MIN\", \n",
    "                          14, \n",
    "                          5000000, \n",
    "                          1, \n",
    "                          \"CLIP\")"
   ]
  },
  {
   "cell_type": "code",
   "execution_count": 8,
   "metadata": {},
   "outputs": [],
   "source": [
    "mxd_list = arcpy.ListFiles(\"*.mxd\")\n",
    "aprx = arcpy.mp.ArcGISProject(\"CURRENT\")\n",
    "mxd_list = aprx.listLayouts(\"Layout1\")[0]\n",
    "\n",
    "outpath= r\"C:\\Users\\msong\\Desktop\"\n",
    "layout = mxd_list.exportToPDF(f\"{outpath}/2D.pdf\")"
   ]
  },
  {
   "cell_type": "code",
   "execution_count": 38,
   "metadata": {},
   "outputs": [],
   "source": [
    "mxd_list = arcpy.ListFiles(\"*.mxd\")\n",
    "aprx = arcpy.mp.ArcGISProject(\"CURRENT\")\n",
    "mxd_list = aprx.listLayouts(\"Layout2\")[0]\n",
    "\n",
    "outpath= r\"C:\\Users\\msong\\Desktop\"\n",
    "layout = mxd_list.exportToPDF(f\"{outpath}/3D.pdf\")"
   ]
  },
  {
   "cell_type": "code",
   "execution_count": null,
   "metadata": {},
   "outputs": [],
   "source": []
  },
  {
   "cell_type": "code",
   "execution_count": null,
   "metadata": {},
   "outputs": [],
   "source": []
  }
 ],
 "metadata": {
  "kernelspec": {
   "display_name": "ArcGISPro",
   "language": "Python",
   "name": "python3"
  },
  "language_info": {
   "file_extension": ".py",
   "name": "python",
   "version": "3"
  }
 },
 "nbformat": 4,
 "nbformat_minor": 2
}
