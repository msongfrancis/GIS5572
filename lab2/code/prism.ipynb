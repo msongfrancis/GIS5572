{
 "cells": [
  {
   "cell_type": "code",
   "execution_count": null,
   "metadata": {},
   "outputs": [],
   "source": [
    "from ftplib import FTP\n",
    "from zipfile import ZipFile\n",
    "from PIL import Image\n",
    "import glob"
   ]
  },
  {
   "cell_type": "markdown",
   "metadata": {},
   "source": [
    "### Download data from PRISM FTP"
   ]
  },
  {
   "cell_type": "code",
   "execution_count": null,
   "metadata": {},
   "outputs": [],
   "source": [
    "data_dir = r\"C:\\Users\\msong\\Desktop\\arc2\\lab2\\lab2\"\n",
    "out_dir = r\"C:\\Users\\msong\\Desktop\\arc2\\lab2\\lab2\\prism_bil_data\""
   ]
  },
  {
   "cell_type": "code",
   "execution_count": null,
   "metadata": {},
   "outputs": [],
   "source": [
    "# Access and navigate prism ftp server to data\n",
    "ftp = FTP(\"prism.nacse.org\")\n",
    "ftp.login(user ='anonymous', passwd = 'leex6165@umn.edu' )\n",
    "ftp.cwd('normals_4km')\n",
    "ftp.cwd('ppt')"
   ]
  },
  {
   "cell_type": "code",
   "execution_count": null,
   "metadata": {},
   "outputs": [],
   "source": [
    "# create list of all data files in ppt data folder \n",
    "all_normal_data = ftp.nlst()"
   ]
  },
  {
   "cell_type": "code",
   "execution_count": null,
   "metadata": {},
   "outputs": [],
   "source": [
    "# extract names of bil files in ppt data folder\n",
    "normal_bil = []\n",
    "for item in all_normal_data:\n",
    "    if (\"all\" in item) and (\"bil\" in item):\n",
    "        normal_bil.append(item)"
   ]
  },
  {
   "cell_type": "code",
   "execution_count": null,
   "metadata": {},
   "outputs": [],
   "source": [
    "# download all bil zipped files from ftp\n",
    "for item in normal_bil:\n",
    "    with open(item, \"wb\") as file:\n",
    "        ftp.retrbinary(\"RETR \" + item, file.write, 1024)\n",
    "    \n",
    "    with ZipFile(f\"{data_dir}/{item}\") as zip_fldr:\n",
    "        zip_fldr.extractall(out_dir)"
   ]
  },
  {
   "cell_type": "markdown",
   "metadata": {},
   "source": [
    "## Create space time cube of annual precitation"
   ]
  },
  {
   "cell_type": "code",
   "execution_count": null,
   "metadata": {},
   "outputs": [],
   "source": [
    "# create a mosaic dataset\n",
    "in_workspace = r\"C:\\Users\\msong\\Desktop\\arc2\\lab2\\lab2\\lab2.gdb\"\n",
    "in_mosaicdataset_name = \"prism_30ppt\"\n",
    "coordinate_system = \"GEOGCS['GCS_North_American_1983',DATUM['D_North_American_1983',SPHEROID['GRS_1980',6378137.0,298.257222101]],PRIMEM['Greenwich',0.0],UNIT['Degree',0.0174532925199433]]\"\n",
    "\n",
    "arcpy.management.CreateMosaicDataset(in_workspace,\n",
    "                             in_mosaicdataset_name, \n",
    "                             coordinate_system, \n",
    "                             1,  \n",
    "                             \"\", \n",
    "                             \"NONE\", \n",
    "                             None)"
   ]
  },
  {
   "cell_type": "code",
   "execution_count": null,
   "metadata": {},
   "outputs": [],
   "source": [
    "# convert bil rasters to tiff to create space time cube\n",
    "arcpy.env.workspace = r\"C:\\Users\\msong\\Desktop\\arc2\\lab2\\lab2\\prism_bil_data\"\n",
    "for bil in arcpy.ListRasters(\"*\", \"bil\"):\n",
    "    arcpy.conversion.RasterToOtherFormat(bil,\n",
    "                                         out_dir, \n",
    "                                         \"TIFF\")   "
   ]
  },
  {
   "cell_type": "code",
   "execution_count": null,
   "metadata": {},
   "outputs": [],
   "source": [
    "# resample tif to 8kx8k meters for performance\n",
    "arcpy.env.workspace = r\"C:\\Users\\msong\\Desktop\\arc2\\lab2\\lab2\\prism_bil_data\"\n",
    "for tif in arcpy.ListRasters(\"*\", \"tif\"):\n",
    "    arcpy.management.Resample(tif, \n",
    "                              f\"{out_dir}/resample/ppt_8k_{tif[-10:-8]}.tif\", \n",
    "                              \"0.08 0.08\", \n",
    "                              \"NEAREST\")"
   ]
  },
  {
   "cell_type": "code",
   "execution_count": null,
   "metadata": {},
   "outputs": [],
   "source": [
    "# add resampled tiff rasters to mosaic dataset\n",
    "arcpy.env.workspace = r\"C:\\Users\\msong\\Desktop\\arc2\\lab2\\lab2\\prism_bil_data\\resample\"\n",
    "for tif in arcpy.ListRasters(\"*\", \"tif\"):\n",
    "    print(tif)\n",
    "    if \"ppt_8k_al\" in tif:\n",
    "        pass\n",
    "    else:\n",
    "        arcpy.management.AddRastersToMosaicDataset(r\"C:\\Users\\msong\\Desktop\\arc2\\lab2\\lab2\\lab2.gdb\\prism_30ppt\", \n",
    "                                                   \"Raster Dataset\", \n",
    "                                                   tif)"
   ]
  },
  {
   "cell_type": "code",
   "execution_count": null,
   "metadata": {},
   "outputs": [],
   "source": [
    "# add new variable field and populate with precipitation\n",
    "var_field = \"variable\"\n",
    "ppt_field = \"timestamp\"\n",
    "arcpy.env.workspace = r\"C:\\Users\\msong\\Desktop\\arc2\\lab2\\lab2\\lab2.gdb\"\n",
    "\n",
    "arcpy.AddField_management(in_mosaicdataset_name, var_field, \"TEXT\")\n",
    "arcpy.management.CalculateField(in_mosaicdataset_name, \n",
    "                                var_field, \n",
    "                                '\"precipitation\"', \n",
    "                                \"PYTHON3\", \n",
    "                                '', \n",
    "                                \"TEXT\")\n",
    "\n",
    "\n",
    "\n",
    "# Add timestamp field and populate with months in 2010\n",
    "arcpy.AddField_management(in_mosaicdataset_name, ppt_field, \"DATE\")\n",
    "arcpy.management.CalculateField(in_mosaicdataset_name, \n",
    "                                ppt_field, \n",
    "                                'DateAdd(Date(2010,0,1), $feature.OBJECTID-1, \"month\")', \n",
    "                                \"ARCADE\", \n",
    "                                '', \n",
    "                                \"TEXT\")"
   ]
  },
  {
   "cell_type": "code",
   "execution_count": null,
   "metadata": {},
   "outputs": [],
   "source": [
    "# Format variable and time to prepare multidimensional raster\n",
    "arcpy.md.BuildMultidimensionalInfo(in_mosaicdataset_name, \n",
    "                                   var_field, \n",
    "                                   \"timestamp # #\", \n",
    "                                   \"precipitation # #\")"
   ]
  },
  {
   "cell_type": "code",
   "execution_count": null,
   "metadata": {},
   "outputs": [],
   "source": [
    "arcpy.env.overwriteOutput = True"
   ]
  },
  {
   "cell_type": "code",
   "execution_count": null,
   "metadata": {},
   "outputs": [],
   "source": [
    "# make multidimensional raster layer\n",
    "arcpy.md.MakeMultidimensionalRasterLayer(\"prism_30ppt\", \n",
    "                                         \"prism_30ppt_MultidimLayer\", \n",
    "                                         \"precipitation\", \n",
    "                                         \"ALL\", \n",
    "                                         None, \n",
    "                                         None, \n",
    "                                         '', \n",
    "                                         '', \n",
    "                                         '', \n",
    "                                         None, \n",
    "                                         '', \n",
    "                                         \"-125.020833333 24.0975 -66.460833333 49.9375\", \n",
    "                                         \"DIMENSIONS\")"
   ]
  },
  {
   "cell_type": "code",
   "execution_count": null,
   "metadata": {
    "scrolled": true
   },
   "outputs": [],
   "source": [
    "arcpy.stpm.CreateSpaceTimeCubeMDRasterLayer(\"prism_30ppt_MultidimLayer\", \n",
    "                                            r\"C:\\Users\\msong\\Desktop\\arc2\\lab2\\lab2\\prism_annual30ppt_tc.nc\", \n",
    "                                            \"ZEROS\")"
   ]
  },
  {
   "cell_type": "code",
   "execution_count": null,
   "metadata": {},
   "outputs": [],
   "source": [
    "arcpy.stpm.VisualizeSpaceTimeCube3D(r\"C:\\Users\\msong\\Desktop\\arc2\\lab2\\lab2\\prism_annual30ppt_tc.nc\", \n",
    "                                    \"PRECIPITATION_NONE_ZEROS\", \n",
    "                                    \"VALUE\", \n",
    "                                    r\"C:\\Users\\msong\\Desktop\\arc2\\lab2\\lab2\\lab2.gdb\\prism_annual30ppt_tc2_3D\")"
   ]
  },
  {
   "cell_type": "code",
   "execution_count": null,
   "metadata": {},
   "outputs": [],
   "source": [
    "# Repeat this 12 times for each image\n",
    "# I used the multidimensional layer to do this and exported the map manually\n",
    "# Couldn't figure out how to export map project to jpeg through arcpy\n",
    "\n",
    "# exports layout to jpeg\n",
    "aprx = arcpy.mp.ArcGISProject(\"CURRENT\")\n",
    "mxd_list = aprx.listLayouts(\"Layout3\")[0]\n",
    "\n",
    "outpath= r\"C:\\Users\\msong\\Desktop\"\n",
    "layout = mxd_list.exportToJPEG(f\"{outpath}/prism_gif/01.jpg\")"
   ]
  },
  {
   "cell_type": "code",
   "execution_count": null,
   "metadata": {},
   "outputs": [],
   "source": [
    "# I ran this in the jupyter notebooks not in the arcpro environment\n",
    "# Create the frames\n",
    "frames = []\n",
    "imgs = glob.glob(r\"C:\\Users\\msong\\Desktop\\arc2\\lab2\\lab2\\prism_gif\\*.jpg\")\n",
    "for i in imgs:\n",
    "    new_frame = Image.open(i)\n",
    "    frames.append(new_frame)\n",
    "    \n",
    "# Save GIF\n",
    "frames[0].save(r\"C:\\Users\\msong\\Desktop\\arc2\\lab2\\lab2\\prism_gif\\ppt_gif.gif\", format=\"GIF\",\n",
    "               append_images=frames[1:],\n",
    "               save_all=True,\n",
    "               duration=300, loop=0)"
   ]
  },
  {
   "cell_type": "code",
   "execution_count": null,
   "metadata": {},
   "outputs": [],
   "source": []
  }
 ],
 "metadata": {
  "kernelspec": {
   "display_name": "ArcGISPro",
   "language": "Python",
   "name": "python3"
  },
  "language_info": {
   "file_extension": ".py",
   "name": "python",
   "version": "3"
  }
 },
 "nbformat": 4,
 "nbformat_minor": 2
}
