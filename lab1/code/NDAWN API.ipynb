{
 "cells": [
  {
   "cell_type": "markdown",
   "metadata": {},
   "source": [
    "## NDAWN API\n",
    "The aim of this code is to retreive data from the NDAWN API using user prompts. Data comes in the form of a csv file. The temporal range for this script is hourly to monthly. This does not include daily or month normal dataset retrieval. "
   ]
  },
  {
   "cell_type": "code",
   "execution_count": 11,
   "metadata": {},
   "outputs": [],
   "source": [
    "import requests"
   ]
  },
  {
   "cell_type": "code",
   "execution_count": 12,
   "metadata": {},
   "outputs": [],
   "source": [
    "def get_variables(table):\n",
    "    '''\n",
    "    parameters\n",
    "    ----------\n",
    "    \n",
    "    return\n",
    "    ------\n",
    "    '''\n",
    "    print(\"\")\n",
    "    \n",
    "    for key in table:\n",
    "        print(f\"{key}: {table[key]}\")\n",
    "    \n",
    "    in_vars = input(\"\\nEnter the variable codes you are interested in seperated by a comma: \")\n",
    "    list_vars = in_vars.split(\",\")\n",
    "\n",
    "    for var in list_vars:\n",
    "        assert var in table, \"Invalid variable entered\"\n",
    "    \n",
    "    format_vars = f\"&variable={'&variable='.join(list_vars)}\"\n",
    "    return format_vars"
   ]
  },
  {
   "cell_type": "code",
   "execution_count": 13,
   "metadata": {},
   "outputs": [],
   "source": [
    "def extract_data(url, ttype, start_date):\n",
    "    '''\n",
    "    parameters\n",
    "    ----------\n",
    "    \n",
    "    prints\n",
    "    ------\n",
    "    '''\n",
    "    r = requests.get(url)\n",
    "    assert r.status_code is 200, (\"Url is not valid\")\n",
    "    assert \"Error\" not in r.text, (\"Url is not valid\")\n",
    "    print(url)\n",
    "    print(\"Url valid. Extracting...\")\n",
    "\n",
    "    with open(f\"{ttype}_{start_date.replace('-', '')}.csv\", \"wb\") as file:\n",
    "        file.write(r.content)\n",
    "        print(\"File extracted.\")"
   ]
  },
  {
   "cell_type": "code",
   "execution_count": 14,
   "metadata": {},
   "outputs": [
    {
     "name": "stdout",
     "output_type": "stream",
     "text": [
      "Time options are: ('hourly', 'daily', 'weekly', 'monthly')\n",
      "Enter the time type: monthly\n",
      "Enter the station number: 78\n"
     ]
    }
   ],
   "source": [
    "base_url = \"https://ndawn.ndsu.nodak.edu/table.csv?\"\n",
    "\n",
    "time_options = (\"hourly\", \"daily\", \"weekly\", \"monthly\")\n",
    "print(f\"Time options are: {time_options}\")\n",
    "ttype = input(\"Enter the time type: \")\n",
    "assert ttype in time_options, \"Invalid time type\"\n",
    "\n",
    "station = input(\"Enter the station number: \")\n"
   ]
  },
  {
   "cell_type": "code",
   "execution_count": 15,
   "metadata": {},
   "outputs": [],
   "source": [
    "# Run this cell. Lookup dictionaries for each time type\n",
    "# how can I get these variables dynamically?\n",
    "\n",
    "hourly_variables = {\n",
    "    \"hdt\": \"avg air temp\", \"hdrh\": \"avg relative humidity\", \"hdbst\": \"avg bare soil temp\", \n",
    "    \"hdtst\": \"avg turf soil temp\", \"hdws\": \"avg wind speed\", \"hdmxws\": \"max wind speed\",\"hdwd\": \"avg wind direction\",\n",
    "    \"hdsdwd\": \"avg wind direction std dev\",\"hdsr\": \"total solar radiation\",\"hdr\": \"total rainfall\",\n",
    "    \"hdbp\": \"avg barometric pressure\",\"hddp\": \"avg dew point\",\"hdwc\": \"avg wind chill\",\n",
    "    \"hdt9\": \"avg air temp at 9 meters\",\"hdrh9\": \"avg relative humidity at 9 meters\",\n",
    "    \"hdws10\": \"avg wind speed at 10 meters\",\"hdmxws10\": \"max wind speed at 10 meters\",\n",
    "    \"hdwd10\": \"avg wind direction at 10 meters\",\"hdsdwd10\": \"avg wind direct std dev at 10 meters\"\n",
    "}\n",
    "\n",
    "daily_variables = {\n",
    "    \"ddmxt\": \"max air temp\",\"ddmxtt\": \"max(time) air temp\",\"ddmnt\": \"min air temp\",\"ddmntt\": \"min(time) air temp\",\n",
    "    \"ddavt\": \"avg air temp\",\"dddtr\": \"diurnal range - air temp\",\"ddbst\": \"avg bare soil temp\",\n",
    "    \"ddtst\": \"avg turf soil temp\",\"ddws\": \"avg wind speed\",\"ddmxws\": \"max wind speed\",\n",
    "    \"ddmxwst\": \"max(time) wind speed\",\"ddwd\": \"avg wind direction\",\"ddwdsd\": \"avg wind direction std dev\",\n",
    "    \"ddsr\": \"total solar radiation\",\"ddtpetp\": \"total pet (penman)\",\"ddtpetjh\": \"total pet (jensen-haise)\",\n",
    "    \"ddr\": \"total rainfall\",\"dddp\": \"avg dew point\",\"ddwc\": \"avg wind chill\",\"ddmnwc\": \"min wind chill\",\n",
    "    \"ddmxt9\": \"max air temp at 9 meters\",\"ddmxtt9\": \"max(time) air temp at 9 meters\",\n",
    "    \"ddmnt9\": \"min air temp at 9 meters\",\"ddmntt9\": \"max(time) air temp at 9 meters\",\n",
    "    \"ddmxws10\": \"max wind speed at 10 meters\",\"ddmxwst10\": \"max(time) wind speed at 10 meters\",\n",
    "    \"ddwd10\": \"avg wind direction at 10 meters\",\"ddwdsd10\": \"avg wind direction std dev at 10 meters\"\n",
    "}\n",
    "\n",
    "weekly_variables = {\n",
    "    \"wdmxt\": \"max air temp\",\"wdmnt\": \"min air temp\",\"wdavt\": \"avg air temp\",\"wdbst\": \"avg bare soil temp\",\n",
    "    \"wdtst\": \"avg turf soil temp\",\"wdws\": \"avg wind speed\",\"wdmxws\": \"max wind speed\",\n",
    "    \"wdsr\": \"total solar radiation\",\"wdapet\": \"avg pet (penman)\",\"wdtpet\": \"total pet (penman)\",\n",
    "    \"wdr\": \"total rainfall\",\"wddp\": \"avg dew point\",\"wdwc\": \"avg wind chill\"\n",
    "}\n",
    "\n",
    "\n",
    "monthly_variables = {\n",
    "    \"mdmxt\": \"max air temp\",\"mdmnt\": \"min air temp\",\"mdavt\": \"avg air temp\",\"mdbst\": \"avg bare soil temp\",\n",
    "    \"mdtst\": \"avg turf soil temp\",\"mdws\": \"avg wind speed\",\"mdmxws\": \"max wind speed\",\n",
    "    \"mdsr\": \"total solar radiation\",\"mdapet\": \"avg pet (penman)\",\"mdtpet\": \"total pet (penman)\",\n",
    "    \"mdr\": \"total rainfall\",\"mddp\": \"avg dew point\",\"mdwc\": \"avg wind chill\"\n",
    "}"
   ]
  },
  {
   "cell_type": "code",
   "execution_count": 16,
   "metadata": {},
   "outputs": [
    {
     "name": "stdout",
     "output_type": "stream",
     "text": [
      "Enter dataset begin month YYYY-MM: 2020-01\n",
      "Enter the number of months interested: 1\n",
      "\n",
      "mdmxt: max air temp\n",
      "mdmnt: min air temp\n",
      "mdavt: avg air temp\n",
      "mdbst: avg bare soil temp\n",
      "mdtst: avg turf soil temp\n",
      "mdws: avg wind speed\n",
      "mdmxws: max wind speed\n",
      "mdsr: total solar radiation\n",
      "mdapet: avg pet (penman)\n",
      "mdtpet: total pet (penman)\n",
      "mdr: total rainfall\n",
      "mddp: avg dew point\n",
      "mdwc: avg wind chill\n",
      "\n",
      "Enter the variable codes you are interested in seperated by a comma: mdavt\n",
      "https://ndawn.ndsu.nodak.edu/table.csv?station=78&variable=mdavt&ttype=monthly&quick_pick=&begin_date=2020-01&count=1\n",
      "Url valid. Extracting...\n",
      "File extracted.\n"
     ]
    }
   ],
   "source": [
    "# define parameters based on ttype\n",
    "\n",
    "if ttype == \"hourly\":\n",
    "    table = hourly_variables\n",
    "    \n",
    "    start_date = input(\"Enter dataset begin date YYYY-MM-DD: \")\n",
    "    end_date = input(\"Enter dateset end date YYYY-MM-DD: \")\n",
    "    assert end_date.replace(\"-\",\"\") >= start_date.replace(\"-\", \"\"), \"End date must be later than start date\"\n",
    "    \n",
    "    \n",
    "    variables = get_variables(table)\n",
    "\n",
    "    url = f\"{base_url}station={station}{variables}&ttype={ttype}&quick_pick=&begin_date={start_date}&end_date={end_date}\"\n",
    "    extract_data(url, ttype, start_date)\n",
    "    \n",
    "    \n",
    "elif ttype == \"daily\":\n",
    "    table = daily_variables\n",
    "    \n",
    "    start_date = input(\"Enter dataset begin date YYYY-MM-DD: \")\n",
    "    end_date = input(\"Enter dateset end date YYYY-MM-DD: \")\n",
    "    assert end_date.replace(\"-\",\"\") >= start_date.replace(\"-\", \"\"), \"End date must be later than start date\"\n",
    "    \n",
    "    variables = get_variables(table)\n",
    "    \n",
    "    url = f\"{base_url}station={station}{variables}&ttype={ttype}&quick_pick=&begin_date={start_date}&end_date={end_date}\"\n",
    "    extract_data(url, ttype, start_date)\n",
    "    \n",
    "\n",
    "    \n",
    "elif ttype == \"weekly\":\n",
    "    table = weekly_variables\n",
    "    \n",
    "    start_date = input(\"Enter dataset begin date YYYY-MM-DD: \")\n",
    "    count = input(\"Enter the number of weeks interested: \")\n",
    "    \n",
    "    variables = get_variables(table)\n",
    "    \n",
    "    url = f\"{base_url}station={station}{variables}&ttype={ttype}&quick_pick=&begin_date={start_date}&count={count}\"\n",
    "    extract_data(url, ttype, start_date)\n",
    "  \n",
    "\n",
    "elif ttype == \"monthly\":\n",
    "    table = monthly_variables\n",
    "    \n",
    "    start_date = input(\"Enter dataset begin month YYYY-MM: \")\n",
    "    count = input(\"Enter the number of months interested: \")\n",
    "    \n",
    "    variables = get_variables(table)\n",
    "    \n",
    "    url = f\"{base_url}station={station}{variables}&ttype={ttype}&quick_pick=&begin_date={start_date}&count={count}\"\n",
    "    extract_data(url, ttype, start_date)\n"
   ]
  },
  {
   "cell_type": "code",
   "execution_count": null,
   "metadata": {},
   "outputs": [],
   "source": []
  }
 ],
 "metadata": {
  "kernelspec": {
   "display_name": "Python 3",
   "language": "python",
   "name": "python3"
  },
  "language_info": {
   "codemirror_mode": {
    "name": "ipython",
    "version": 3
   },
   "file_extension": ".py",
   "mimetype": "text/x-python",
   "name": "python",
   "nbconvert_exporter": "python",
   "pygments_lexer": "ipython3",
   "version": "3.7.9"
  }
 },
 "nbformat": 4,
 "nbformat_minor": 4
}
